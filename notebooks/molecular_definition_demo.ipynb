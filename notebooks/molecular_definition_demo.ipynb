{
 "cells": [
  {
   "cell_type": "markdown",
   "id": "999ff466",
   "metadata": {},
   "source": [
    "### Demonstration Overview: Constructing the `MolecularDefinition` Class\n",
    "\n",
    "This notebook demonstrates the construction and practical use of the `MolecularDefinition` class, a Python implementation of the HL7 FHIR MolecularDefinition resource. Built with Pydantic, the `MolecularDefinition` class is designed to closely align with the structure and code patterns of the `fhir.resources` Python package. This notebook provides guidance on using this class effectively, with a focus on constructing key components such as `Location` and `Representation`.\n"
   ]
  },
  {
   "cell_type": "markdown",
   "id": "f12f6f60",
   "metadata": {},
   "source": [
    "### Step 1: Prerequisites and Setup\n",
    "\n",
    "To construct the `MolecularDefinitionLocation` and `MolecularDefinitionRepresentation` class in this demosntration, we set up the envionrment by importing the specific libraries and moduels required for thee examples in this notebook. This includes:\n",
    "\n",
    "1. **FHIR Resources**:\n",
    "   - `Coding`, `CodeableConcept`, `Reference`, and `Quantity`, from the `fhir.resources` library. These classes provide the framework for working with structured healthcare data in FHIR format.\n",
    "\n",
    "2. **Custom Project Modules**:\n",
    "   - Components from `resources.moleculardefinition`:\n",
    "     - `MolecularDefinitionLocation` and related classes for specifying molecular location.\n",
    "     - `MolecularDefinitionRepresentation` and related classes for specifying  molecular representations.\n",
    "\n",
    "By importing these libraries, we ensure access to all the tools needed for this demonstration.\n"
   ]
  },
  {
   "cell_type": "code",
   "execution_count": 1,
   "id": "94a20299",
   "metadata": {},
   "outputs": [],
   "source": [
    "# Import required libraries for both Location and Representation Examples\n",
    "from fhir.resources.coding import Coding\n",
    "from fhir.resources.codeableconcept import CodeableConcept\n",
    "from fhir.resources.reference import Reference\n",
    "from fhir.resources.quantity import Quantity\n",
    "from resources.moleculardefinition import (\n",
    "    MolecularDefinitionLocation,\n",
    "    MolecularDefinitionLocationSequenceLocation,\n",
    "    MolecularDefinitionLocationSequenceLocationCoordinateInterval,\n",
    "    MolecularDefinitionLocationSequenceLocationCoordinateIntervalCoordinateSystem,\n",
    "    MolecularDefinitionRepresentation,\n",
    "    MolecularDefinitionRepresentationExtracted,\n",
    "    MolecularDefinitionRepresentationExtractedCoordinateInterval,\n",
    "    MolecularDefinitionRepresentationExtractedCoordinateIntervalCoordinateSystem,\n",
    ")\n"
   ]
  },
  {
   "cell_type": "markdown",
   "id": "f17d808a",
   "metadata": {},
   "source": [
    "### Step 2: Defining the MolecularDefinition Location Component\n",
    "This section demonstrates how to construct and manipulate molecular `Location` components within the `MolecularDefinition` class. \n",
    "\n",
    "**Note:** The current codebase does not yet support `cytobandLocation`. This feature is still in the early stages of development and will be incorporated into the codebase once it is completed.\n",
    "\n",
    "#### JSON Representation:\n",
    "```json\n",
    "\"location\" : [{\n",
    "    \"sequenceLocation\" : {\n",
    "      \"sequenceContext\" : {\n",
    "        \"reference\" : \"MolecularDefinition/example-sequence-nm0007694-url\",\n",
    "        \"type\" : \"MolecularDefinition\",\n",
    "        \"display\" : \"Starting Sequence Resource: (CYP2C19), mRNA, NM_000769.4\"\n",
    "      },\n",
    "      \"coordinateInterval\" : {\n",
    "        \"coordinateSystem\" : {\n",
    "          \"system\" : {\n",
    "            \"coding\" : [{\n",
    "              \"system\" : \"http://loinc.org\",\n",
    "              \"code\" : \"LA30102-0\",\n",
    "              \"display\" : \"1-based character counting\"\n",
    "            }],\n",
    "            \"text\" : \"1-based character counting\"\n",
    "          }\n",
    "        },\n",
    "        \"startQuantity\" : {\n",
    "          \"value\" : 661\n",
    "        }\n",
    "      }\n",
    "    }\n",
    "  }]"
   ]
  },
  {
   "cell_type": "code",
   "execution_count": 2,
   "id": "5893a07d",
   "metadata": {},
   "outputs": [
    {
     "data": {
      "text/plain": [
       "{'sequenceLocation': {'sequenceContext': {'reference': 'MolecularDefinition/example-sequence-nm0007694-url',\n",
       "   'type': 'MolecularDefinition',\n",
       "   'display': 'Starting Sequence Resource: (CYP2C19), mRNA, NM_000769.4'},\n",
       "  'coordinateInterval': {'coordinateSystem': {'system': {'coding': [{'system': 'http://loinc.org',\n",
       "       'code': 'LA30100-4',\n",
       "       'display': '1-based character counting'}],\n",
       "     'text': '1-based character counting'}},\n",
       "   'startQuantity': {'value': 661.0}}}}"
      ]
     },
     "execution_count": 2,
     "metadata": {},
     "output_type": "execute_result"
    }
   ],
   "source": [
    "# Define the coding for the coordinateSystem\n",
    "coding_val = Coding(\n",
    "    system=\"http://loinc.org\",\n",
    "    code=\"LA30100-4\",\n",
    "    display=\"1-based character counting\",\n",
    ")\n",
    "\n",
    "# Wrap coding into the  CodeableConcept object\n",
    "codeconcept_val = CodeableConcept(\n",
    "    coding=[coding_val],\n",
    "    text=\"1-based character counting\",\n",
    ")\n",
    "\n",
    "# Wrap the CodeableConcept into coordinateSystem for location\n",
    "MolDefLocSeqLoCoordIntCoordSystem = MolecularDefinitionLocationSequenceLocationCoordinateIntervalCoordinateSystem(\n",
    "    system=codeconcept_val\n",
    ")\n",
    "\n",
    "# Create the coordinateInterval and build the interval with start quantities.\n",
    "MolDefLocSeqLocCoordInterval = MolecularDefinitionLocationSequenceLocationCoordinateInterval(\n",
    "    coordinateSystem=MolDefLocSeqLoCoordIntCoordSystem,\n",
    "    startQuantity=Quantity(value=661),\n",
    ")\n",
    "\n",
    "# Wrap the coordianteInterval into the sequenceLocation and add the sequenceContext.\n",
    "MolDefLocSeqLocation= MolecularDefinitionLocationSequenceLocation(\n",
    "    sequenceContext=Reference(\n",
    "        reference=\"MolecularDefinition/example-sequence-nm0007694-url\",\n",
    "        type=\"MolecularDefinition\",\n",
    "        display=\"Starting Sequence Resource: (CYP2C19), mRNA, NM_000769.4\",\n",
    "    ),\n",
    "    coordinateInterval=MolDefLocSeqLocCoordInterval,\n",
    ")\n",
    "\n",
    "# Create the MolecularDefinitionLocation object, including the sequenceLocation.\n",
    "MolDefLocation = MolecularDefinitionLocation(\n",
    "    sequenceLocation=MolDefLocSeqLocation\n",
    ")\n",
    "\n",
    "# Inspect serialized output\n",
    "MolDefLocation.model_dump()\n"
   ]
  },
  {
   "cell_type": "markdown",
   "id": "ab3efc8a",
   "metadata": {},
   "source": [
    "### Step 3: Defining the MolecularDefinition Representation Component\n",
    "This section demonstrates how to construct and manipulate molecular `Representation` components within the `MolecularDefinition` class. \n",
    "\n",
    "**Note:** This example focuses on creating an extracted representation, which is one of five ways to define a representation object. The other types of representations include literal, repeated, concatenated, and relative.\n",
    "\n",
    "#### JSON Representation:\n",
    "```json\n",
    "\"representation\" : [{\n",
    "    \"extracted\" : {\n",
    "      \"startingMolecule\" : {\n",
    "        \"reference\" : \"MolecularDefinition/example-starting-sequence-2b-extracted\",\n",
    "        \"type\" : \"MolecularDefinition\",\n",
    "        \"display\" : \"Starting Sequence Resource\"\n",
    "      },\n",
    "      \"coordinateInterval\" : {\n",
    "        \"coordinateSystem\" : {\n",
    "          \"system\" : {\n",
    "            \"coding\" : [{\n",
    "              \"system\" : \"http://loinc.org\",\n",
    "              \"code\" : \"LA30100-4\",\n",
    "              \"display\" : \"0-based interval counting\"\n",
    "            }],\n",
    "            \"text\" : \"0-based interval counting\"\n",
    "          }\n",
    "        },\n",
    "        \"start\" : 0,\n",
    "        \"end\" : 745\n",
    "      },\n",
    "      \"reverseComplement\" : false\n",
    "    }\n",
    "  }]\n",
    "\n"
   ]
  },
  {
   "cell_type": "code",
   "execution_count": 3,
   "id": "666ed3a7",
   "metadata": {},
   "outputs": [],
   "source": [
    "# Define the coding for the coordinateSystem\n",
    "system_coding_val = Coding(\n",
    "        system=\"http://loinc.org\",\n",
    "        code= \"LA30100-4\",\n",
    "        display= \"0-based interval counting\",\n",
    "    )\n",
    "\n",
    "# Wrap coding into the  CodeableConcept object\n",
    "system_codeconcept_val = CodeableConcept(\n",
    "    coding=[system_coding_val],\n",
    "    text=\"0-based interval counting\"\n",
    ")\n",
    "\n",
    "# Create the coordinateSystem object for the extracted representation\n",
    "MolDefRepExtrCoordIntCoordSystem = MolecularDefinitionRepresentationExtractedCoordinateIntervalCoordinateSystem(\n",
    "    system=system_codeconcept_val\n",
    ")\n",
    "\n",
    "# Create the coordinateInterval object with start and end positions\n",
    "MolDefRepExtrCoordInterval = MolecularDefinitionRepresentationExtractedCoordinateInterval(\n",
    "    coordinateSystem=MolDefRepExtrCoordIntCoordSystem,\n",
    "    start=0,\n",
    "    end=745\n",
    ")\n",
    "\n",
    "# Define the startingMolecule as a FHIR Reference object\n",
    "ref_startMol = Reference(\n",
    "    reference=\"MolecularDefinition/example-starting-sequence-2b-extracted\",\n",
    "    type=\"MolecularDefinition\",\n",
    "    display=\"Starting Sequence Resource\")\n",
    "\n",
    "# Create the extracted molecular representation object\n",
    "MolDefRepExtracted= MolecularDefinitionRepresentationExtracted(\n",
    "    startingMolecule=ref_startMol,\n",
    "    coordinateInterval=MolDefRepExtrCoordInterval,\n",
    "    reverseComplement= 'false'\n",
    ")\n"
   ]
  },
  {
   "cell_type": "code",
   "execution_count": 4,
   "id": "d9e1ac46",
   "metadata": {},
   "outputs": [
    {
     "data": {
      "text/plain": [
       "{'extracted': {'startingMolecule': {'reference': 'MolecularDefinition/example-starting-sequence-2b-extracted',\n",
       "   'type': 'MolecularDefinition',\n",
       "   'display': 'Starting Sequence Resource'},\n",
       "  'coordinateInterval': {'coordinateSystem': {'system': {'coding': [{'system': 'http://loinc.org',\n",
       "       'code': 'LA30100-4',\n",
       "       'display': '0-based interval counting'}],\n",
       "     'text': '0-based interval counting'}},\n",
       "   'start': 0,\n",
       "   'end': 745},\n",
       "  'reverseComplement': False}}"
      ]
     },
     "execution_count": 4,
     "metadata": {},
     "output_type": "execute_result"
    }
   ],
   "source": [
    "# Wrap the extracted representation in a MolecularDefinitionRepresentation object\n",
    "MolDefRepresentation= MolecularDefinitionRepresentation(\n",
    "    extracted=MolDefRepExtracted\n",
    ")\n",
    "MolDefRepresentation.model_dump()"
   ]
  },
  {
   "cell_type": "markdown",
   "id": "77c8a41e",
   "metadata": {},
   "source": [
    "### Conclusion\n",
    "\n",
    "As noted above, the `MolecularDefinition` resource is still under development and currently does not support `cytobandLocation`. This notebook provides a few examples of how to work with `Location` and `Representation` components, but there is much more you can build. For instance, you can create additional types of representations, including literal, repeated, concatenated, and relative.\n",
    "\n",
    "The code in this notebook aligns with the current version of the [HL7 FHIR MolecularDefinition resource schema](https://build.fhir.org/branches/cg-im-moldef_work_in_progress_2/moleculardefinition.html). As the schema evolves, we will continue to update the implementation to ensure compatibility with future changes.**Note:** Occasionally, the [HL7 FHIR MolecularDefinition resource schema website](https://build.fhir.org/branches/cg-im-moldef_work_in_progress_2/moleculardefinition.html) may experience downtime. Please note that this is beyond the control of our lab group. We apologize for any inconvenience this may cause and kindly ask for your patience during such instances.\n",
    "\n",
    "\n",
    "\n"
   ]
  }
 ],
 "metadata": {
  "kernelspec": {
   "display_name": "venv",
   "language": "python",
   "name": "python3"
  },
  "language_info": {
   "codemirror_mode": {
    "name": "ipython",
    "version": 3
   },
   "file_extension": ".py",
   "mimetype": "text/x-python",
   "name": "python",
   "nbconvert_exporter": "python",
   "pygments_lexer": "ipython3",
   "version": "3.11.5"
  }
 },
 "nbformat": 4,
 "nbformat_minor": 5
}
