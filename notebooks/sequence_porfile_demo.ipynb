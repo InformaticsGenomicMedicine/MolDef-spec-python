{
 "cells": [
  {
   "cell_type": "markdown",
   "id": "5510b53b",
   "metadata": {},
   "source": [
    "### Demonstration Overview: Constructing the `Sequence` Class\n",
    "\n",
    "This notebook demonstrates the construction of the `Sequence` class. The `Sequence` class, built with Pydantic, extends the `MolecularDefinition` class to meet the specific requirements of the HL7 FHIR MolecularDefinition Sequence Profile. It incorporates tailored attributes and behaviors to support this use case. This notebook demonstrates how to use this class effectively, and shows how to build an Sequence example step by step.\n"
   ]
  },
  {
   "cell_type": "markdown",
   "id": "5c81c17f",
   "metadata": {},
   "source": [
    "### Step 1: Prerequisites and Setup\n",
    "\n",
    "To construct the `Sequence` class in this demonstration, we set up the environment by importing the specific libraries and modules required for the examples in this notebook. These include:\n",
    "\n",
    "1. **External Package**:\n",
    "   - `Coding`, `CodeableConcept`, and `Meta` from the `fhir.resources` library. These classes provide the framework for working with structured healthcare data in FHIR format.\n",
    "\n",
    "2. **Custom Project Modules**:\n",
    "   - `Sequence` from `profiles.sequence`: The main class we will build and demonstrate.\n",
    "   - Components from `resources.moleculardefinition`:\n",
    "     - `MolecularDefinitionLocation` and related classes for specifying molecular location.\n",
    "     - `MolecularDefinitionRepresentation` and related classes for specifying  molecular representations.\n",
    "\n",
    "By importing these libraries, we ensure access to all the tools needed for this demonstration.\n"
   ]
  },
  {
   "cell_type": "code",
   "execution_count": 6,
   "id": "058ceca6",
   "metadata": {},
   "outputs": [],
   "source": [
    "# Import required libraries\n",
    "from fhir.resources.meta import Meta\n",
    "from fhir.resources.coding import Coding\n",
    "from fhir.resources.codeableconcept import CodeableConcept\n",
    "from profiles.sequence import Sequence as FhirSequence\n",
    "from resources.moleculardefinition import (\n",
    "    MolecularDefinitionRepresentation,\n",
    "    MolecularDefinitionRepresentationLiteral,\n",
    ")"
   ]
  },
  {
   "cell_type": "markdown",
   "id": "02ea2320",
   "metadata": {},
   "source": [
    "### Step 2: Defining the Sequence Representation Component\n",
    "\n",
    "In this step, we define the representation component for the `Sequence`, which is a subclass of the `MolecularDefinition`. \n",
    "\n",
    "#### JSON Representation:\n",
    "```json\n",
    "{\n",
    "  \"representation\" : [{\n",
    "    \"literal\" : {\n",
    "      \"value\" : \"C\"\n",
    "    }\n",
    "  }]\n",
    "}\n"
   ]
  },
  {
   "cell_type": "code",
   "execution_count": 7,
   "id": "3dfcfe48",
   "metadata": {},
   "outputs": [
    {
     "data": {
      "text/plain": [
       "{'literal': {'value': 'C'}}"
      ]
     },
     "execution_count": 7,
     "metadata": {},
     "output_type": "execute_result"
    }
   ],
   "source": [
    "MolDefLiteral = MolecularDefinitionRepresentationLiteral(value=\"C\")\n",
    "MolDefRepresentation = MolecularDefinitionRepresentation(literal=MolDefLiteral)\n",
    "\n",
    "MolDefRepresentation.model_dump()"
   ]
  },
  {
   "cell_type": "markdown",
   "id": "a885d0a2",
   "metadata": {},
   "source": [
    "### Step 3: Integrating Components into the Complete `Sequence`\n",
    "\n",
    "In this step, we combine all the previously defined components to create a complete instance of the `Sequence` class. This integration includes meta data including (resourceType, id, meta, moleculeType) and representation components.\n",
    "\n",
    "- One necessary modification was adjusting the cardinality of the `moleculeType` attribute from `0..1` to `1..1` to ensure a mandatory and singular specification.  \n",
    "- Additionally, the `location` attribute has been removed as it is not required in the `Sequence`.  \n",
    " \n",
    "#### JSON Representation:\n",
    "```json\n",
    "{\n",
    "  \"resourceType\" : \"MolecularDefinition\",\n",
    "\"id\" : \"example-sequence-c\",\n",
    "\"meta\" : {\n",
    "  \"profile\" : [\"http://hl7.org/fhir/StructureDefinition/sequence\"]\n",
    "},\n",
    "\"moleculeType\" : {\n",
    "  \"coding\" : [{\n",
    "    \"system\" : \"http://hl7.org/fhir/sequence-type\",\n",
    "    \"code\" : \"dna\",\n",
    "    \"display\" : \"DNA Sequence\"\n",
    "  }]\n",
    "},\n",
    "  \"representation\": [\n",
    "    {...}  // Details from MolecularDefinitionRepresentation\n",
    "  ]\n",
    "}\n"
   ]
  },
  {
   "cell_type": "code",
   "execution_count": 8,
   "id": "ecf0149e",
   "metadata": {},
   "outputs": [],
   "source": [
    "id_value = 'example-sequence-c'\n",
    "\n",
    "meta_value = Meta(\n",
    "    profile=[\"http://hl7.org/fhir/StructureDefinition/sequence\"]\n",
    ")\n",
    "\n",
    "coding_value = Coding(\n",
    "    system=\"http://hl7.org/fhir/sequence-type\",\n",
    "    code = \"dna\",\n",
    "    display = \"DNA Sequence\"\n",
    ")\n",
    "\n",
    "codeable_concept_value = CodeableConcept(coding=[coding_value])\n"
   ]
  },
  {
   "cell_type": "code",
   "execution_count": 9,
   "id": "a9b78056",
   "metadata": {},
   "outputs": [
    {
     "data": {
      "text/plain": [
       "{'resourceType': 'MolecularDefinition',\n",
       " 'id': 'example-sequence-c',\n",
       " 'meta': {'profile': ['http://hl7.org/fhir/StructureDefinition/sequence']},\n",
       " 'moleculeType': {'coding': [{'system': 'http://hl7.org/fhir/sequence-type',\n",
       "    'code': 'dna',\n",
       "    'display': 'DNA Sequence'}]},\n",
       " 'representation': [{'literal': {'value': 'C'}}]}"
      ]
     },
     "execution_count": 9,
     "metadata": {},
     "output_type": "execute_result"
    }
   ],
   "source": [
    "example_sequence_c = FhirSequence(\n",
    "    id = id_value,\n",
    "    meta = meta_value, \n",
    "    moleculeType=codeable_concept_value,\n",
    "    representation=[MolDefRepresentation]\n",
    ")\n",
    "\n",
    "example_sequence_c.model_dump()"
   ]
  },
  {
   "cell_type": "markdown",
   "id": "9e990416",
   "metadata": {},
   "source": [
    "### Final Example: Using JSON to Generate the Class\n",
    "\n",
    "Constructing the `Sequence` step by step can be a bit challenging, especially if you are new to the `MolecularDefinition` schema. To ensure accuracy while constructing the `Sequence`, we recommend having the schema available as a reference for guidance. \n",
    "\n",
    "Alternatively, instead of constructing the `Sequence` step by step, you can use Python's `**` unpacking syntax to directly generate the class instance from the complete JSON structure. This method simplifies the process and ensures the class instance accurately reflects the provided JSON data.\n"
   ]
  },
  {
   "cell_type": "code",
   "execution_count": 10,
   "id": "406a27eb",
   "metadata": {},
   "outputs": [
    {
     "data": {
      "text/plain": [
       "{'resourceType': 'MolecularDefinition',\n",
       " 'id': 'example-sequence-c',\n",
       " 'meta': {'profile': ['http://hl7.org/fhir/StructureDefinition/sequence']},\n",
       " 'moleculeType': {'coding': [{'system': 'http://hl7.org/fhir/sequence-type',\n",
       "    'code': 'dna',\n",
       "    'display': 'DNA Sequence'}]},\n",
       " 'representation': [{'literal': {'value': 'C'}}]}"
      ]
     },
     "execution_count": 10,
     "metadata": {},
     "output_type": "execute_result"
    }
   ],
   "source": [
    "# Simple Sequence Example C\n",
    "simple_sequence_example_c = {\n",
    "  \"resourceType\" : \"MolecularDefinition\",\n",
    "  \"id\" : \"example-sequence-c\",\n",
    "  \"meta\" : {\n",
    "    \"profile\" : [\"http://hl7.org/fhir/StructureDefinition/sequence\"]\n",
    "  },\n",
    "  \"moleculeType\" : {\n",
    "    \"coding\" : [{\n",
    "      \"system\" : \"http://hl7.org/fhir/sequence-type\",\n",
    "      \"code\" : \"dna\",\n",
    "      \"display\" : \"DNA Sequence\"\n",
    "    }]\n",
    "  },\n",
    "  \"representation\" : [{\n",
    "    \"literal\" : {\n",
    "      \"value\" : \"C\"\n",
    "    }\n",
    "  }]\n",
    "}\n",
    "\n",
    "FhirSequence(**simple_sequence_example_c).model_dump()"
   ]
  },
  {
   "cell_type": "markdown",
   "id": "fcab227d",
   "metadata": {},
   "source": [
    "### Conclusion\n",
    "\n",
    "The `Sequence` resource is currently under development. For more details and the latest updates, please refer to the [HL7 FHIR Sequence Profile Documentation](https://build.fhir.org/branches/cg-im-moldef_work_in_progress_2/sequence.html).\n",
    "\n",
    "**Note:** The documentation may occasionally experience downtime, which is beyond the control of our lab group. We appreciate your patience and apologize for any inconvenience this may cause.\n"
   ]
  }
 ],
 "metadata": {
  "kernelspec": {
   "display_name": "venv",
   "language": "python",
   "name": "python3"
  },
  "language_info": {
   "codemirror_mode": {
    "name": "ipython",
    "version": 3
   },
   "file_extension": ".py",
   "mimetype": "text/x-python",
   "name": "python",
   "nbconvert_exporter": "python",
   "pygments_lexer": "ipython3",
   "version": "3.11.5"
  }
 },
 "nbformat": 4,
 "nbformat_minor": 5
}
